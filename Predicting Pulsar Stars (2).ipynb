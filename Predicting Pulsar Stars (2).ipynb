{
 "cells": [
  {
   "cell_type": "markdown",
   "metadata": {},
   "source": [
    "# Predicting Pulsar Stars\n",
    "Description & Attribute Information by Dr. Robert Lyon\n",
    "#### Goal\n",
    "We will try to predict if a star is a pulsar or not based on features.\n",
    "#### Description\n",
    "HTRU2 is a data set which describes a sample of pulsar candidates collected during the High Time Resolution Universe Survey .\n",
    "\n",
    "Pulsars are a rare type of Neutron star that produce radio emission detectable here on Earth. They are of considerable scientific interest as probes of space-time, the inter-stellar medium, and states of matter .\n",
    "\n",
    "As pulsars rotate, their emission beam sweeps across the sky, and when this crosses our line of sight, produces a detectable pattern of broadband radio emission. As pulsars rotate rapidly, this pattern repeats periodically. Thus pulsar search involves looking for periodic radio signals with large radio telescopes.\n",
    "\n",
    "Each pulsar produces a slightly different emission pattern, which varies slightly with each rotation . Thus a potential signal detection known as a 'candidate', is averaged over many rotations of the pulsar, as determined by the length of an observation. In the absence of additional info, each candidate could potentially describe a real pulsar. However in practice almost all detections are caused by radio frequency interference (RFI) and noise, making legitimate signals hard to find.\n",
    "\n",
    "Machine learning tools are now being used to automatically label pulsar candidates to facilitate rapid analysis. Classification systems in particular are being widely adopted, which treat the candidate data sets as binary classification problems. Here the legitimate pulsar examples are a minority positive class, and spurious examples the majority negative class.\n",
    "\n",
    "The data set shared here contains 16,259 spurious examples caused by RFI/noise, and 1,639 real pulsar examples. These examples have all been checked by human annotators.\n",
    "\n",
    "Each row lists the variables first, and the class label is the final entry. The class labels used are 0 (negative) and 1 (positive).\n",
    "\n",
    "#### Attribute Information\n",
    "Each candidate is described by 8 continuous variables, and a single class variable. The first four are simple statistics obtained from the integrated pulse profile (folded profile). This is an array of continuous variables that describe a longitude-resolved version of the signal that has been averaged in both time and frequency . The remaining four variables are similarly obtained from the DM-SNR curve . These are summarised below:\n",
    "\n",
    "Mean of the integrated profile.\n",
    "Standard deviation of the integrated profile.\n",
    "Excess kurtosis of the integrated profile.\n",
    "Skewness of the integrated profile.\n",
    "Mean of the DM-SNR curve.\n",
    "Standard deviation of the DM-SNR curve.\n",
    "Excess kurtosis of the DM-SNR curve.\n",
    "Skewness of the DM-SNR curve.\n",
    "Class\n",
    "HTRU 2 Summary\n",
    "17,898 total examples.\n",
    "1,639 positive examples.\n",
    "16,259 negative examples.\n",
    "\n",
    "Source: https://archive.ics.uci.edu/ml/datasets/HTRU2\n",
    "\n",
    "## Loading & Overviewing Datasets"
   ]
  },
  {
   "cell_type": "markdown",
   "metadata": {},
   "source": [
    "#### Explore Head Data\n",
    "We are getting the head of the data (top 5 rows) to explore a bit of the format of the dataset.                                              "
   ]
  },
  {
   "cell_type": "code",
   "execution_count": 1,
   "metadata": {},
   "outputs": [
    {
     "data": {
      "text/html": [
       "<div>\n",
       "<style scoped>\n",
       "    .dataframe tbody tr th:only-of-type {\n",
       "        vertical-align: middle;\n",
       "    }\n",
       "\n",
       "    .dataframe tbody tr th {\n",
       "        vertical-align: top;\n",
       "    }\n",
       "\n",
       "    .dataframe thead th {\n",
       "        text-align: right;\n",
       "    }\n",
       "</style>\n",
       "<table border=\"1\" class=\"dataframe\">\n",
       "  <thead>\n",
       "    <tr style=\"text-align: right;\">\n",
       "      <th></th>\n",
       "      <th>Mean of the integrated profile</th>\n",
       "      <th>Standard deviation of the integrated profile</th>\n",
       "      <th>Excess kurtosis of the integrated profile</th>\n",
       "      <th>Skewness of the integrated profile</th>\n",
       "      <th>Mean of the DM-SNR curve</th>\n",
       "      <th>Standard deviation of the DM-SNR curve</th>\n",
       "      <th>Excess kurtosis of the DM-SNR curve</th>\n",
       "      <th>Skewness of the DM-SNR curve</th>\n",
       "      <th>target_class</th>\n",
       "    </tr>\n",
       "  </thead>\n",
       "  <tbody>\n",
       "    <tr>\n",
       "      <th>0</th>\n",
       "      <td>140.562500</td>\n",
       "      <td>55.683782</td>\n",
       "      <td>-0.234571</td>\n",
       "      <td>-0.699648</td>\n",
       "      <td>3.199833</td>\n",
       "      <td>19.110426</td>\n",
       "      <td>7.975532</td>\n",
       "      <td>74.242225</td>\n",
       "      <td>0</td>\n",
       "    </tr>\n",
       "    <tr>\n",
       "      <th>1</th>\n",
       "      <td>102.507812</td>\n",
       "      <td>58.882430</td>\n",
       "      <td>0.465318</td>\n",
       "      <td>-0.515088</td>\n",
       "      <td>1.677258</td>\n",
       "      <td>14.860146</td>\n",
       "      <td>10.576487</td>\n",
       "      <td>127.393580</td>\n",
       "      <td>0</td>\n",
       "    </tr>\n",
       "    <tr>\n",
       "      <th>2</th>\n",
       "      <td>103.015625</td>\n",
       "      <td>39.341649</td>\n",
       "      <td>0.323328</td>\n",
       "      <td>1.051164</td>\n",
       "      <td>3.121237</td>\n",
       "      <td>21.744669</td>\n",
       "      <td>7.735822</td>\n",
       "      <td>63.171909</td>\n",
       "      <td>0</td>\n",
       "    </tr>\n",
       "    <tr>\n",
       "      <th>3</th>\n",
       "      <td>136.750000</td>\n",
       "      <td>57.178449</td>\n",
       "      <td>-0.068415</td>\n",
       "      <td>-0.636238</td>\n",
       "      <td>3.642977</td>\n",
       "      <td>20.959280</td>\n",
       "      <td>6.896499</td>\n",
       "      <td>53.593661</td>\n",
       "      <td>0</td>\n",
       "    </tr>\n",
       "    <tr>\n",
       "      <th>4</th>\n",
       "      <td>88.726562</td>\n",
       "      <td>40.672225</td>\n",
       "      <td>0.600866</td>\n",
       "      <td>1.123492</td>\n",
       "      <td>1.178930</td>\n",
       "      <td>11.468720</td>\n",
       "      <td>14.269573</td>\n",
       "      <td>252.567306</td>\n",
       "      <td>0</td>\n",
       "    </tr>\n",
       "  </tbody>\n",
       "</table>\n",
       "</div>"
      ],
      "text/plain": [
       "    Mean of the integrated profile  \\\n",
       "0                       140.562500   \n",
       "1                       102.507812   \n",
       "2                       103.015625   \n",
       "3                       136.750000   \n",
       "4                        88.726562   \n",
       "\n",
       "    Standard deviation of the integrated profile  \\\n",
       "0                                      55.683782   \n",
       "1                                      58.882430   \n",
       "2                                      39.341649   \n",
       "3                                      57.178449   \n",
       "4                                      40.672225   \n",
       "\n",
       "    Excess kurtosis of the integrated profile  \\\n",
       "0                                   -0.234571   \n",
       "1                                    0.465318   \n",
       "2                                    0.323328   \n",
       "3                                   -0.068415   \n",
       "4                                    0.600866   \n",
       "\n",
       "    Skewness of the integrated profile   Mean of the DM-SNR curve  \\\n",
       "0                            -0.699648                   3.199833   \n",
       "1                            -0.515088                   1.677258   \n",
       "2                             1.051164                   3.121237   \n",
       "3                            -0.636238                   3.642977   \n",
       "4                             1.123492                   1.178930   \n",
       "\n",
       "    Standard deviation of the DM-SNR curve  \\\n",
       "0                                19.110426   \n",
       "1                                14.860146   \n",
       "2                                21.744669   \n",
       "3                                20.959280   \n",
       "4                                11.468720   \n",
       "\n",
       "    Excess kurtosis of the DM-SNR curve   Skewness of the DM-SNR curve  \\\n",
       "0                              7.975532                      74.242225   \n",
       "1                             10.576487                     127.393580   \n",
       "2                              7.735822                      63.171909   \n",
       "3                              6.896499                      53.593661   \n",
       "4                             14.269573                     252.567306   \n",
       "\n",
       "   target_class  \n",
       "0             0  \n",
       "1             0  \n",
       "2             0  \n",
       "3             0  \n",
       "4             0  "
      ]
     },
     "execution_count": 1,
     "metadata": {},
     "output_type": "execute_result"
    }
   ],
   "source": [
    "import pandas as pd\n",
    "data = pd.read_csv (r'C:\\Users\\Ye-An\\Desktop\\pulsar_stars.csv')\n",
    "data.head()"
   ]
  },
  {
   "cell_type": "markdown",
   "metadata": {},
   "source": [
    "# Stage 1 Model Testing\n",
    "Let's try to make a model that can predict if a star is a pulsar or not with a variety of algorithms."
   ]
  },
  {
   "cell_type": "markdown",
   "metadata": {},
   "source": [
    "#### Train Test Split\n",
    "We are splitting the dataset into two sets: a training set and a testing set.\n",
    "It is important to separate a training and testing set because we need to make sure the model (trained using the training set) has not seen the testing set to get accurate results on the model's accuracy."
   ]
  },
  {
   "cell_type": "code",
   "execution_count": 3,
   "metadata": {},
   "outputs": [],
   "source": [
    "from sklearn.model_selection import train_test_split\n",
    "X = data.drop('target_class',axis=1)\n",
    "y = data['target_class']\n",
    "X_train, X_test, y_train, y_test = train_test_split(X, y, test_size=0.30)"
   ]
  },
  {
   "cell_type": "markdown",
   "metadata": {},
   "source": [
    "# Decision Tree Algorithm\n",
    "Let's try to use the decision tree algorithm on this dataset."
   ]
  },
  {
   "cell_type": "code",
   "execution_count": 4,
   "metadata": {},
   "outputs": [
    {
     "name": "stdout",
     "output_type": "stream",
     "text": [
      "Classification Report\n",
      "              precision    recall  f1-score   support\n",
      "\n",
      "           0       0.98      0.98      0.98      4861\n",
      "           1       0.85      0.81      0.83       509\n",
      "\n",
      "   micro avg       0.97      0.97      0.97      5370\n",
      "   macro avg       0.91      0.90      0.91      5370\n",
      "weighted avg       0.97      0.97      0.97      5370\n",
      "\n",
      " \n",
      "Confusion Matrix\n",
      "[[4787   74]\n",
      " [  95  414]]\n"
     ]
    }
   ],
   "source": [
    "#Creating instance of decision tree object (train test split already done)\n",
    "from sklearn.tree import DecisionTreeClassifier\n",
    "dtree = DecisionTreeClassifier()\n",
    "dtree.fit(X_train,y_train)\n",
    "\n",
    "#Printing results from testing\n",
    "predictions = dtree.predict(X_test)\n",
    "from sklearn.metrics import classification_report, confusion_matrix\n",
    "dt_cr = classification_report(y_test,predictions)\n",
    "print(\"Classification Report\")\n",
    "print(dt_cr)\n",
    "print(\" \")\n",
    "print(\"Confusion Matrix\")\n",
    "print(confusion_matrix(y_test,predictions))"
   ]
  },
  {
   "cell_type": "markdown",
   "metadata": {},
   "source": [
    "# Random Forest Algorithm\n",
    "Let's try to use the random forest algorithm on this dataset."
   ]
  },
  {
   "cell_type": "code",
   "execution_count": 5,
   "metadata": {},
   "outputs": [
    {
     "name": "stdout",
     "output_type": "stream",
     "text": [
      "Classification Report\n",
      "              precision    recall  f1-score   support\n",
      "\n",
      "           0       0.98      0.99      0.99      4861\n",
      "           1       0.92      0.83      0.87       509\n",
      "\n",
      "   micro avg       0.98      0.98      0.98      5370\n",
      "   macro avg       0.95      0.91      0.93      5370\n",
      "weighted avg       0.98      0.98      0.98      5370\n",
      "\n",
      " \n",
      "Confusion Matrix\n",
      "[[4823   38]\n",
      " [  88  421]]\n"
     ]
    }
   ],
   "source": [
    "#Creating instance of Random Forest object (train test split already done)\n",
    "from sklearn.ensemble import RandomForestClassifier\n",
    "rfc = RandomForestClassifier(n_estimators=10)\n",
    "rfc.fit(X_train,y_train)\n",
    "\n",
    "#Print results from testing\n",
    "predictions = rfc.predict(X_test)\n",
    "from sklearn.metrics import classification_report, confusion_matrix\n",
    "rf_cr = classification_report(y_test,predictions)\n",
    "print(\"Classification Report\")\n",
    "print(rf_cr)\n",
    "print(\" \")\n",
    "print(\"Confusion Matrix\")\n",
    "print(confusion_matrix(y_test,predictions))"
   ]
  },
  {
   "cell_type": "markdown",
   "metadata": {},
   "source": [
    "# Support Vector Machine Algorithm\n",
    "Let's try to use the SVM algorithm on this dataset."
   ]
  },
  {
   "cell_type": "code",
   "execution_count": 6,
   "metadata": {},
   "outputs": [
    {
     "name": "stderr",
     "output_type": "stream",
     "text": [
      "C:\\Users\\Ye-An\\Anaconda3\\lib\\site-packages\\sklearn\\svm\\base.py:196: FutureWarning: The default value of gamma will change from 'auto' to 'scale' in version 0.22 to account better for unscaled features. Set gamma explicitly to 'auto' or 'scale' to avoid this warning.\n",
      "  \"avoid this warning.\", FutureWarning)\n"
     ]
    },
    {
     "name": "stdout",
     "output_type": "stream",
     "text": [
      "Classification Report\n",
      "              precision    recall  f1-score   support\n",
      "\n",
      "           0       0.91      1.00      0.95      4861\n",
      "           1       1.00      0.02      0.03       509\n",
      "\n",
      "   micro avg       0.91      0.91      0.91      5370\n",
      "   macro avg       0.95      0.51      0.49      5370\n",
      "weighted avg       0.92      0.91      0.86      5370\n",
      "\n",
      " \n",
      "Confusion Matrix\n",
      "[[4861    0]\n",
      " [ 500    9]]\n"
     ]
    }
   ],
   "source": [
    "#Creating instance of SVM object (train test split already done)\n",
    "from sklearn.svm import SVC\n",
    "svc_model = SVC()\n",
    "svc_model.fit(X_train,y_train)\n",
    "\n",
    "#Print results from testing\n",
    "predictions = svc_model.predict(X_test)\n",
    "from sklearn.metrics import classification_report, confusion_matrix\n",
    "svm_cr = classification_report(y_test,predictions)\n",
    "print(\"Classification Report\")\n",
    "print(svm_cr)\n",
    "print(\" \")\n",
    "print(\"Confusion Matrix\")\n",
    "print(confusion_matrix(y_test,predictions))"
   ]
  },
  {
   "cell_type": "markdown",
   "metadata": {},
   "source": [
    "### Conclusions\n",
    "We noticed that the Random Forest algorithm worked the best, but not with a really great accuracy. Let's see if we can improve it a little bit with feature engineering."
   ]
  },
  {
   "cell_type": "markdown",
   "metadata": {},
   "source": [
    "## Stage 2 Model Testing"
   ]
  },
  {
   "cell_type": "code",
   "execution_count": 12,
   "metadata": {},
   "outputs": [
    {
     "data": {
      "text/plain": [
       "<matplotlib.axes._subplots.AxesSubplot at 0x1a6012e9ac8>"
      ]
     },
     "execution_count": 12,
     "metadata": {},
     "output_type": "execute_result"
    },
    {
     "data": {
      "image/png": "[encoded data removed]",
      "text/plain": [
       "<Figure size 1008x1008 with 2 Axes>"
      ]
     },
     "metadata": {
      "needs_background": "light"
     },
     "output_type": "display_data"
    }
   ],
   "source": [
    "import matplotlib.pyplot as plt\n",
    "import seaborn as sns\n",
    "x = data.drop('target_class', axis=1)\n",
    "y = data.target_class\n",
    "f,ax = plt.subplots(figsize=(14, 14))\n",
    "sns.heatmap(x.corr(), annot=True, linewidths=.5, fmt= '.1f',ax=ax)"
   ]
  },
  {
   "cell_type": "markdown",
   "metadata": {},
   "source": [
    "Getting rid of some very highly correlated features:\n",
    "- Excess kurtosis of the integrated profile\n",
    "- Excess kurtosis of the DM-SNR curve\n",
    "- Standard deviation of the DM-SNR curve"
   ]
  },
  {
   "cell_type": "code",
   "execution_count": 24,
   "metadata": {},
   "outputs": [],
   "source": [
    "dropList = [' Excess kurtosis of the integrated profile',' Excess kurtosis of the DM-SNR curve',' Standard deviation of the DM-SNR curve']\n",
    "data_v1 = data.drop(dropList, axis=1)"
   ]
  },
  {
   "cell_type": "markdown",
   "metadata": {},
   "source": [
    "New correlation heatmap:"
   ]
  },
  {
   "cell_type": "code",
   "execution_count": 25,
   "metadata": {},
   "outputs": [
    {
     "data": {
      "text/plain": [
       "<matplotlib.axes._subplots.AxesSubplot at 0x1a60200f390>"
      ]
     },
     "execution_count": 25,
     "metadata": {},
     "output_type": "execute_result"
    },
    {
     "data": {
      "image/png": "[encoded data removed]",
      "text/plain": [
       "<Figure size 1008x1008 with 2 Axes>"
      ]
     },
     "metadata": {
      "needs_background": "light"
     },
     "output_type": "display_data"
    }
   ],
   "source": [
    "x = data_v1.drop('target_class', axis=1)\n",
    "y = data_v1.target_class\n",
    "f,ax = plt.subplots(figsize=(14, 14))\n",
    "sns.heatmap(x.corr(), annot=True, linewidths=.5, fmt= '.1f',ax=ax)"
   ]
  },
  {
   "cell_type": "markdown",
   "metadata": {},
   "source": [
    "## Train Test Split"
   ]
  },
  {
   "cell_type": "code",
   "execution_count": 26,
   "metadata": {},
   "outputs": [],
   "source": [
    "from sklearn.model_selection import train_test_split\n",
    "X = data_v1.drop('target_class',axis=1)\n",
    "y = data_v1['target_class']\n",
    "X_train, X_test, y_train, y_test = train_test_split(X, y, test_size=0.30)"
   ]
  },
  {
   "cell_type": "markdown",
   "metadata": {},
   "source": [
    "## Decision Tree"
   ]
  },
  {
   "cell_type": "code",
   "execution_count": 27,
   "metadata": {},
   "outputs": [
    {
     "name": "stdout",
     "output_type": "stream",
     "text": [
      "Classification Report\n",
      "              precision    recall  f1-score   support\n",
      "\n",
      "           0       0.98      0.98      0.98      4857\n",
      "           1       0.79      0.83      0.81       513\n",
      "\n",
      "   micro avg       0.96      0.96      0.96      5370\n",
      "   macro avg       0.89      0.90      0.89      5370\n",
      "weighted avg       0.96      0.96      0.96      5370\n",
      "\n",
      " \n",
      "Confusion Matrix\n",
      "[[4746  111]\n",
      " [  88  425]]\n"
     ]
    }
   ],
   "source": [
    "#Creating instance of decision tree object (train test split already done)\n",
    "from sklearn.tree import DecisionTreeClassifier\n",
    "dtree = DecisionTreeClassifier()\n",
    "dtree.fit(X_train,y_train)\n",
    "\n",
    "#Printing results from testing\n",
    "predictions = dtree.predict(X_test)\n",
    "from sklearn.metrics import classification_report, confusion_matrix\n",
    "dt_cr = classification_report(y_test,predictions)\n",
    "print(\"Classification Report\")\n",
    "print(dt_cr)\n",
    "print(\" \")\n",
    "print(\"Confusion Matrix\")\n",
    "print(confusion_matrix(y_test,predictions))"
   ]
  },
  {
   "cell_type": "code",
   "execution_count": null,
   "metadata": {},
   "outputs": [],
   "source": []
  },
  {
   "cell_type": "code",
   "execution_count": 28,
   "metadata": {},
   "outputs": [
    {
     "name": "stdout",
     "output_type": "stream",
     "text": [
      "Classification Report\n",
      "              precision    recall  f1-score   support\n",
      "\n",
      "           0       0.98      0.99      0.99      4857\n",
      "           1       0.92      0.82      0.87       513\n",
      "\n",
      "   micro avg       0.98      0.98      0.98      5370\n",
      "   macro avg       0.95      0.91      0.93      5370\n",
      "weighted avg       0.98      0.98      0.98      5370\n",
      "\n",
      " \n",
      "Confusion Matrix\n",
      "[[4821   36]\n",
      " [  92  421]]\n"
     ]
    }
   ],
   "source": [
    "#Creating instance of Random Forest object (train test split already done)\n",
    "from sklearn.ensemble import RandomForestClassifier\n",
    "rfc = RandomForestClassifier(n_estimators=100)\n",
    "rfc.fit(X_train,y_train)\n",
    "\n",
    "#Print results from testing\n",
    "predictions = rfc.predict(X_test)\n",
    "from sklearn.metrics import classification_report, confusion_matrix\n",
    "rf_cr = classification_report(y_test,predictions)\n",
    "print(\"Classification Report\")\n",
    "print(rf_cr)\n",
    "print(\" \")\n",
    "print(\"Confusion Matrix\")\n",
    "print(confusion_matrix(y_test,predictions))"
   ]
  },
  {
   "cell_type": "markdown",
   "metadata": {},
   "source": [
    "# Interactive Shell"
   ]
  },
  {
   "cell_type": "code",
   "execution_count": 32,
   "metadata": {},
   "outputs": [
    {
     "name": "stdout",
     "output_type": "stream",
     "text": [
      "----------------------------------------------------------------------\n",
      "                        PREDICITNG PULSAR STARS                       \n",
      "----------------------------------------------------------------------\n",
      "Enter a command.\n",
      "     (p) predict      (a) model accuracy      (q) quit\n",
      ":: p\n",
      "----------------------------------------------------------------------\n",
      " \n",
      "A set of 5 measurements will be asked to classify the star as a pulsar or not.\n",
      "Please answer as accurately as possible.\n",
      "\n",
      "Mean of the integrated profile: 100\n",
      "Standard deviation of the integrated profile: 200\n",
      "Skewness of integrated profile: 1000\n",
      "Mean of the DM-SNR curve: 3\n",
      "Skewness of the Dm-SNR curve: 2\n",
      "\n",
      "Predicting...\n",
      "\n",
      "\n",
      "Classification: Pulsar\n",
      "----------------------------------------------------------------------\n",
      "Enter a command.\n",
      "     (p) predict      (a) model accuracy      (q) quit\n",
      ":: a\n",
      "----------------------------------------------------------------------\n",
      " \n",
      "Model Accuracy\n",
      "Current model: Random Forest Algorithm\n",
      "N Estimators: 100\n",
      "              precision    recall  f1-score   support\n",
      "\n",
      "           0       0.98      0.99      0.99      4857\n",
      "           1       0.92      0.82      0.87       513\n",
      "\n",
      "   micro avg       0.98      0.98      0.98      5370\n",
      "   macro avg       0.95      0.91      0.93      5370\n",
      "weighted avg       0.98      0.98      0.98      5370\n",
      "\n",
      "\n",
      "----------------------------------------------------------------------\n",
      "Enter a command.\n",
      "     (p) predict      (a) model accuracy      (q) quit\n",
      ":: a\n",
      "----------------------------------------------------------------------\n",
      " \n",
      "Model Accuracy\n",
      "Current model: Random Forest Algorithm\n",
      "N Estimators: 100\n",
      "              precision    recall  f1-score   support\n",
      "\n",
      "           0       0.98      0.99      0.99      4857\n",
      "           1       0.92      0.82      0.87       513\n",
      "\n",
      "   micro avg       0.98      0.98      0.98      5370\n",
      "   macro avg       0.95      0.91      0.93      5370\n",
      "weighted avg       0.98      0.98      0.98      5370\n",
      "\n",
      "\n",
      "----------------------------------------------------------------------\n",
      "Enter a command.\n",
      "     (p) predict      (a) model accuracy      (q) quit\n",
      ":: a\n",
      "----------------------------------------------------------------------\n",
      " \n",
      "Model Accuracy\n",
      "Current model: Random Forest Algorithm\n",
      "N Estimators: 100\n",
      "              precision    recall  f1-score   support\n",
      "\n",
      "           0       0.98      0.99      0.99      4857\n",
      "           1       0.92      0.82      0.87       513\n",
      "\n",
      "   micro avg       0.98      0.98      0.98      5370\n",
      "   macro avg       0.95      0.91      0.93      5370\n",
      "weighted avg       0.98      0.98      0.98      5370\n",
      "\n",
      "\n",
      "----------------------------------------------------------------------\n",
      "Enter a command.\n",
      "     (p) predict      (a) model accuracy      (q) quit\n",
      ":: a\n",
      "----------------------------------------------------------------------\n",
      " \n",
      "Model Accuracy\n",
      "Current model: Random Forest Algorithm\n",
      "N Estimators: 100\n",
      "              precision    recall  f1-score   support\n",
      "\n",
      "           0       0.98      0.99      0.99      4857\n",
      "           1       0.92      0.82      0.87       513\n",
      "\n",
      "   micro avg       0.98      0.98      0.98      5370\n",
      "   macro avg       0.95      0.91      0.93      5370\n",
      "weighted avg       0.98      0.98      0.98      5370\n",
      "\n",
      "\n",
      "----------------------------------------------------------------------\n",
      "Enter a command.\n",
      "     (p) predict      (a) model accuracy      (q) quit\n",
      ":: a\n",
      "----------------------------------------------------------------------\n",
      " \n",
      "Model Accuracy\n",
      "Current model: Random Forest Algorithm\n",
      "N Estimators: 100\n",
      "              precision    recall  f1-score   support\n",
      "\n",
      "           0       0.98      0.99      0.99      4857\n",
      "           1       0.92      0.82      0.87       513\n",
      "\n",
      "   micro avg       0.98      0.98      0.98      5370\n",
      "   macro avg       0.95      0.91      0.93      5370\n",
      "weighted avg       0.98      0.98      0.98      5370\n",
      "\n",
      "\n",
      "----------------------------------------------------------------------\n",
      "Enter a command.\n",
      "     (p) predict      (a) model accuracy      (q) quit\n",
      ":: a\n",
      "----------------------------------------------------------------------\n",
      " \n",
      "Model Accuracy\n",
      "Current model: Random Forest Algorithm\n",
      "N Estimators: 100\n",
      "              precision    recall  f1-score   support\n",
      "\n",
      "           0       0.98      0.99      0.99      4857\n",
      "           1       0.92      0.82      0.87       513\n",
      "\n",
      "   micro avg       0.98      0.98      0.98      5370\n",
      "   macro avg       0.95      0.91      0.93      5370\n",
      "weighted avg       0.98      0.98      0.98      5370\n",
      "\n",
      "\n",
      "----------------------------------------------------------------------\n",
      "Enter a command.\n",
      "     (p) predict      (a) model accuracy      (q) quit\n",
      ":: p\n",
      "----------------------------------------------------------------------\n",
      " \n",
      "A set of 5 measurements will be asked to classify the star as a pulsar or not.\n",
      "Please answer as accurately as possible.\n",
      "\n",
      "Mean of the integrated profile: 1\n",
      "Standard deviation of the integrated profile: 1\n",
      "Skewness of integrated profile: 1\n",
      "Mean of the DM-SNR curve: 1\n",
      "Skewness of the Dm-SNR curve: 1\n",
      "\n",
      "Predicting...\n",
      "\n",
      "\n",
      "Classification: Not Pulsar\n",
      "----------------------------------------------------------------------\n",
      "Enter a command.\n",
      "     (p) predict      (a) model accuracy      (q) quit\n",
      ":: 1\n",
      "----------------------------------------------------------------------\n",
      "----------------------------------------------------------------------\n",
      "Enter a command.\n",
      "     (p) predict      (a) model accuracy      (q) quit\n",
      ":: p\n",
      "----------------------------------------------------------------------\n",
      " \n",
      "A set of 5 measurements will be asked to classify the star as a pulsar or not.\n",
      "Please answer as accurately as possible.\n",
      "\n",
      "Mean of the integrated profile: 0\n",
      "Standard deviation of the integrated profile: 1\n",
      "Skewness of integrated profile: 1\n",
      "Mean of the DM-SNR curve: 1\n",
      "Skewness of the Dm-SNR curve: 10000000000\n",
      "\n",
      "Predicting...\n",
      "\n",
      "\n",
      "Classification: Not Pulsar\n",
      "----------------------------------------------------------------------\n",
      "Enter a command.\n",
      "     (p) predict      (a) model accuracy      (q) quit\n",
      ":: p\n",
      "----------------------------------------------------------------------\n",
      " \n",
      "A set of 5 measurements will be asked to classify the star as a pulsar or not.\n",
      "Please answer as accurately as possible.\n",
      "\n",
      "Mean of the integrated profile: 100000000\n",
      "Standard deviation of the integrated profile: 10000000\n",
      "Skewness of integrated profile: 100000000\n",
      "Mean of the DM-SNR curve: 1000000000\n",
      "Skewness of the Dm-SNR curve: 1000000000000\n",
      "\n",
      "Predicting...\n",
      "\n",
      "\n",
      "Classification: Pulsar\n",
      "----------------------------------------------------------------------\n",
      "Enter a command.\n",
      "     (p) predict      (a) model accuracy      (q) quit\n",
      ":: q\n",
      "----------------------------------------------------------------------\n",
      "\n",
      "Are you sure you want to quit (0/1)? 1\n",
      "Quitting.\n"
     ]
    }
   ],
   "source": [
    "print(\"----------------------------------------------------------------------\")\n",
    "print(\"                        PREDICTING PULSAR STARS                       \")\n",
    "\n",
    "while True:\n",
    "    print(\"----------------------------------------------------------------------\")\n",
    "    print(\"Enter a command.\")\n",
    "    print(\"     (p) predict      (a) model accuracy      (q) quit\")\n",
    "    command = input(\":: \")\n",
    "    print(\"----------------------------------------------------------------------\")\n",
    "    if command == 'a':\n",
    "        print(\" \")\n",
    "        print(\"Model Accuracy\")\n",
    "        print(\"Current model: Random Forest Algorithm\")\n",
    "        print(\"N Estimators: 100\")\n",
    "        print(rf_cr)\n",
    "        print(\"\")\n",
    "    if command == 'q':\n",
    "        print(\"\")\n",
    "        if int(input(\"Are you sure you want to quit (0/1)? \")) == 1:\n",
    "            print(\"Quitting.\")\n",
    "            break\n",
    "    if command == 'p':\n",
    "        print(\" \")\n",
    "        print(\"A set of 5 measurements will be asked to classify the star as a pulsar or not.\")\n",
    "        print(\"Please answer as accurately as possible.\\n\")\n",
    "        a = float(input(\"Mean of the integrated profile: \"))\n",
    "        b = float(input(\"Standard deviation of the integrated profile: \"))\n",
    "        c = float(input(\"Skewness of integrated profile: \"))\n",
    "        d = float(input(\"Mean of the DM-SNR curve: \"))\n",
    "        e = float(input(\"Skewness of the Dm-SNR curve: \"))\n",
    "        values = np.array([a,b,c,d,e])        \n",
    "        print(\"\")\n",
    "        print(\"Predicting...\")\n",
    "        print(\"\")\n",
    "        \n",
    "        prediction = rfc.predict(values.reshape(1,-1))\n",
    "    \n",
    "        if prediction == [1]:\n",
    "            print(\"\")\n",
    "            print(\"Classification: Pulsar\")\n",
    "        elif prediction == [0]:\n",
    "            print(\"\")\n",
    "            print(\"Classification: Not Pulsar\")"
   ]
  },
  {
   "cell_type": "code",
   "execution_count": null,
   "metadata": {},
   "outputs": [],
   "source": []
  }
 ],
 "metadata": {
  "kernelspec": {
   "display_name": "Python 3",
   "language": "python",
   "name": "python3"
  },
  "language_info": {
   "codemirror_mode": {
    "name": "ipython",
    "version": 3
   },
   "file_extension": ".py",
   "mimetype": "text/x-python",
   "name": "python",
   "nbconvert_exporter": "python",
   "pygments_lexer": "ipython3",
   "version": "3.7.1"
  }
 },
 "nbformat": 4,
 "nbformat_minor": 2
}
